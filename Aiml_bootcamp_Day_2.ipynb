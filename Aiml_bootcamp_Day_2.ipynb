{
  "nbformat": 4,
  "nbformat_minor": 0,
  "metadata": {
    "colab": {
      "provenance": [],
      "authorship_tag": "ABX9TyPPTlqlm+Pj9nmx+hkWwomY",
      "include_colab_link": true
    },
    "kernelspec": {
      "name": "python3",
      "display_name": "Python 3"
    },
    "language_info": {
      "name": "python"
    }
  },
  "cells": [
    {
      "cell_type": "markdown",
      "metadata": {
        "id": "view-in-github",
        "colab_type": "text"
      },
      "source": [
        "<a href=\"https://colab.research.google.com/github/Pillalamarrivyshnavi/2216155_AIML_Bootcamp_2023/blob/main/Aiml_bootcamp_Day_2.ipynb\" target=\"_parent\"><img src=\"https://colab.research.google.com/assets/colab-badge.svg\" alt=\"Open In Colab\"/></a>"
      ]
    },
    {
      "cell_type": "code",
      "execution_count": 1,
      "metadata": {
        "colab": {
          "base_uri": "https://localhost:8080/"
        },
        "id": "vRLhiygn_31x",
        "outputId": "fc001813-4306-4592-ae6d-b104a4a1f50e"
      },
      "outputs": [
        {
          "output_type": "stream",
          "name": "stdout",
          "text": [
            "arithmetic operators\n",
            "22\n",
            "18\n",
            "10.0\n",
            "40\n",
            "400\n",
            "10\n"
          ]
        }
      ],
      "source": [
        "#arithmetic operators\n",
        "print(\"arithmetic operators\")\n",
        "a=20\n",
        "b=2\n",
        "\n",
        "print(a+b)\n",
        "print(a-b)\n",
        "print(a/b)\n",
        "print(a*b)\n",
        "print(a**b)\n",
        "print(a//b)"
      ]
    },
    {
      "cell_type": "code",
      "source": [
        "#comparison operators\n",
        "\n",
        "a==b\n",
        "a<=b\n",
        "a>=b\n",
        "a<<b\n",
        "a>>b\n",
        "a!=b"
      ],
      "metadata": {
        "id": "NzwdgqYiAxFN"
      },
      "execution_count": null,
      "outputs": []
    },
    {
      "cell_type": "code",
      "source": [
        "#assignment operators\n",
        "a=20\n",
        "b=2\n",
        "\n",
        "c=a+b\n",
        "c-=a\n",
        "print(c)\n"
      ],
      "metadata": {
        "colab": {
          "base_uri": "https://localhost:8080/"
        },
        "id": "SOqkk15-A3_X",
        "outputId": "27ee94d1-3075-400e-90c6-a278e0fb9441"
      },
      "execution_count": 3,
      "outputs": [
        {
          "output_type": "stream",
          "name": "stdout",
          "text": [
            "2\n"
          ]
        }
      ]
    },
    {
      "cell_type": "code",
      "source": [
        "#logical operators-and or not\n",
        "t=True\n",
        "f=False\n",
        "print(\"t and f is:\",t and f)\n",
        "print(\"t or f is:\",t or f)\n",
        "print(\"t not f is:\",not f)"
      ],
      "metadata": {
        "colab": {
          "base_uri": "https://localhost:8080/"
        },
        "id": "EGnWPQ2IB3hR",
        "outputId": "a24ca433-e709-4cbf-96f2-f4fe93ae67f6"
      },
      "execution_count": 4,
      "outputs": [
        {
          "output_type": "stream",
          "name": "stdout",
          "text": [
            "t and f is: False\n",
            "t or f is: True\n",
            "t not f is: True\n"
          ]
        }
      ]
    },
    {
      "cell_type": "code",
      "source": [
        "#bitwise opearators\n",
        "a=13 #0000 1101\n",
        "b=14 #0000 1110\n",
        "\n",
        "print(a&b) #and\n",
        "print(a|b) #or\n",
        "print(~a) #not\n",
        "print(a^b) #XOr\n",
        "print(a>>2) #right shift\n",
        "print(a<<2) #left shift"
      ],
      "metadata": {
        "colab": {
          "base_uri": "https://localhost:8080/"
        },
        "id": "knx0LB_LCYvr",
        "outputId": "191a2360-617a-4129-9c4f-71c7df116bf5"
      },
      "execution_count": 5,
      "outputs": [
        {
          "output_type": "stream",
          "name": "stdout",
          "text": [
            "12\n",
            "15\n",
            "-14\n",
            "3\n",
            "3\n",
            "52\n"
          ]
        }
      ]
    },
    {
      "cell_type": "code",
      "source": [
        "#membership operators\n",
        "a=\"hello world!\"\n",
        "print(\"l\" in a)"
      ],
      "metadata": {
        "colab": {
          "base_uri": "https://localhost:8080/"
        },
        "id": "XedrV2YWE5pD",
        "outputId": "35fff5d2-3990-4213-ae3b-d3beaa2a1ef4"
      },
      "execution_count": 6,
      "outputs": [
        {
          "output_type": "stream",
          "name": "stdout",
          "text": [
            "True\n"
          ]
        }
      ]
    },
    {
      "cell_type": "code",
      "source": [
        "#identity operators\n",
        "a1=5\n",
        "b1=5\n",
        "a2=\"yayy\"\n",
        "b2=\"yayy\"\n",
        "a3=[6,7,8]\n",
        "b3=[6,7,8]\n",
        "print(a1 is not b1)\n",
        "print(a2 is b2)\n",
        "print(a3 is b3)"
      ],
      "metadata": {
        "colab": {
          "base_uri": "https://localhost:8080/"
        },
        "id": "pXSk-G3TFFEQ",
        "outputId": "ecfab654-1e15-4f0f-cb4a-818cd699593b"
      },
      "execution_count": 7,
      "outputs": [
        {
          "output_type": "stream",
          "name": "stdout",
          "text": [
            "False\n",
            "True\n",
            "False\n"
          ]
        }
      ]
    },
    {
      "cell_type": "code",
      "source": [
        "a=int(input(\"enter value of a:\"))\n",
        "print(a)\n",
        "\n",
        "b=input(\"enter string\")\n",
        "print(b)"
      ],
      "metadata": {
        "colab": {
          "base_uri": "https://localhost:8080/"
        },
        "id": "KSvoATlHGCSV",
        "outputId": "043bd6c7-c79a-469e-ba15-1e0cb228f753"
      },
      "execution_count": 8,
      "outputs": [
        {
          "output_type": "stream",
          "name": "stdout",
          "text": [
            "enter value of a:5\n",
            "5\n",
            "enter stringvysh\n",
            "vysh\n"
          ]
        }
      ]
    },
    {
      "cell_type": "code",
      "source": [
        "#strings\n",
        "\n",
        "str=\"Vyshu\"\n",
        "\n",
        "#indexing\n",
        "print(str[0])\n",
        "print(str[-1])\n",
        "\n",
        "#slicing\n",
        "print(str[0:5:2])\n",
        "\n",
        "print(str[::])\n",
        "\n",
        "#reverse of string\n",
        "print(str[::-1])\n",
        "\n",
        "#string methods\n",
        "my_str=\" Iam Vyshnavi\"\n",
        "print(my_str.upper())\n",
        "print(my_str.lower())\n",
        "print(my_str.swapcase()) #lower to caps and viceversa\n",
        "print(my_str.lstrip())\n",
        "\n",
        "#string operations\n",
        "str1=\"hello\"\n",
        "str2=\"This is me\"\n",
        "print(str1+str2)\n",
        "print(str1*2)"
      ],
      "metadata": {
        "colab": {
          "base_uri": "https://localhost:8080/"
        },
        "id": "zJn9DfHEGU8g",
        "outputId": "eaa5d6d8-35b5-4b96-d347-b01b8187a255"
      },
      "execution_count": 21,
      "outputs": [
        {
          "output_type": "stream",
          "name": "stdout",
          "text": [
            "V\n",
            "u\n",
            "Vsu\n",
            "Vyshu\n",
            "uhsyV\n",
            " IAM VYSHNAVI\n",
            " iam vyshnavi\n",
            " iAM vYSHNAVI\n",
            "Iam Vyshnavi\n",
            "helloThis is me\n",
            "hellohello\n"
          ]
        }
      ]
    },
    {
      "cell_type": "code",
      "source": [
        "dir(str)\n"
      ],
      "metadata": {
        "colab": {
          "base_uri": "https://localhost:8080/"
        },
        "id": "9Jv4-RM5JIvx",
        "outputId": "a6ff2c8b-5134-4913-996f-66330fb724a6"
      },
      "execution_count": 16,
      "outputs": [
        {
          "output_type": "execute_result",
          "data": {
            "text/plain": [
              "['__add__',\n",
              " '__class__',\n",
              " '__contains__',\n",
              " '__delattr__',\n",
              " '__dir__',\n",
              " '__doc__',\n",
              " '__eq__',\n",
              " '__format__',\n",
              " '__ge__',\n",
              " '__getattribute__',\n",
              " '__getitem__',\n",
              " '__getnewargs__',\n",
              " '__gt__',\n",
              " '__hash__',\n",
              " '__init__',\n",
              " '__init_subclass__',\n",
              " '__iter__',\n",
              " '__le__',\n",
              " '__len__',\n",
              " '__lt__',\n",
              " '__mod__',\n",
              " '__mul__',\n",
              " '__ne__',\n",
              " '__new__',\n",
              " '__reduce__',\n",
              " '__reduce_ex__',\n",
              " '__repr__',\n",
              " '__rmod__',\n",
              " '__rmul__',\n",
              " '__setattr__',\n",
              " '__sizeof__',\n",
              " '__str__',\n",
              " '__subclasshook__',\n",
              " 'capitalize',\n",
              " 'casefold',\n",
              " 'center',\n",
              " 'count',\n",
              " 'encode',\n",
              " 'endswith',\n",
              " 'expandtabs',\n",
              " 'find',\n",
              " 'format',\n",
              " 'format_map',\n",
              " 'index',\n",
              " 'isalnum',\n",
              " 'isalpha',\n",
              " 'isascii',\n",
              " 'isdecimal',\n",
              " 'isdigit',\n",
              " 'isidentifier',\n",
              " 'islower',\n",
              " 'isnumeric',\n",
              " 'isprintable',\n",
              " 'isspace',\n",
              " 'istitle',\n",
              " 'isupper',\n",
              " 'join',\n",
              " 'ljust',\n",
              " 'lower',\n",
              " 'lstrip',\n",
              " 'maketrans',\n",
              " 'partition',\n",
              " 'replace',\n",
              " 'rfind',\n",
              " 'rindex',\n",
              " 'rjust',\n",
              " 'rpartition',\n",
              " 'rsplit',\n",
              " 'rstrip',\n",
              " 'split',\n",
              " 'splitlines',\n",
              " 'startswith',\n",
              " 'strip',\n",
              " 'swapcase',\n",
              " 'title',\n",
              " 'translate',\n",
              " 'upper',\n",
              " 'zfill']"
            ]
          },
          "metadata": {},
          "execution_count": 16
        }
      ]
    },
    {
      "cell_type": "code",
      "source": [
        "#string formats\n",
        "\n",
        "name=\"Vysh\"\n",
        "Language=\"Python\"\n",
        "year=2023\n",
        " \n",
        "print(name,\"is studying\",Language,\"Programming language in\",year)\n",
        "\n",
        "#format\n",
        "print(\"{} is studying {} programming language in {}\".format(name,Language,year)) #like of giving indexing\n",
        "print(\"{2} is studying {0} programming language in {1}\".format(name,Language,year))\n",
        "\n",
        "#placeholder\n",
        "print(\"%s is studying %s in %d\"%(name,Language,year))\n",
        "\n",
        "#rawstring\n",
        "print(f\"{name} is studying {Language} in {year}\")"
      ],
      "metadata": {
        "colab": {
          "base_uri": "https://localhost:8080/"
        },
        "id": "32tV2b1GJ8_L",
        "outputId": "3bf1ad13-96e2-47f9-b9d7-f51ccaa49ef3"
      },
      "execution_count": 26,
      "outputs": [
        {
          "output_type": "stream",
          "name": "stdout",
          "text": [
            "Vysh is studying Python Programming language in 2023\n",
            "Vysh is studying Python programming language in 2023\n",
            "2023 is studying Vysh programming language in Python\n",
            "Vysh is studying Python in 2023\n",
            "Vysh is studying Python in 2023\n"
          ]
        }
      ]
    },
    {
      "cell_type": "code",
      "source": [
        "#List\n",
        "my_l=[1,2,3,4]\n",
        "my_l1=[1,\"hii\",\"4.0\"]\n",
        "my_l2=[\"apple\",\"mango\",\"citrus\"]\n",
        "\n",
        "#indexing\n",
        "print(my_l[2])\n",
        "print(my_l[-1])\n",
        "\n",
        "#slicing\n",
        "print(my_l[:3])\n",
        "\n",
        "#nested list\n",
        "n_l=[\"dragonfruit\",my_l,my_l[1]]\n",
        "print(n_l[0][0:6])\n",
        "print(my_l1[1][2])\n",
        "\n",
        "#list method\n",
        "my_l.append(5)\n",
        "print(my_l)\n",
        "\n",
        "l1=[6,5,63,78,3,5,9,2,61]\n",
        "print(l1.count(5))\n",
        "print(len(l1))\n",
        "print(l1[::-1])\n",
        "\n",
        "l1.reverse()\n",
        "print(l1)\n",
        "\n",
        "l1.sort()\n",
        "print(l1)\n",
        "\n",
        "#print(n_l[2][0:3])"
      ],
      "metadata": {
        "colab": {
          "base_uri": "https://localhost:8080/"
        },
        "id": "rgrCDHUKL2-W",
        "outputId": "ccf8f9e8-73df-4b70-ce67-d7baf9b5ba5e"
      },
      "execution_count": 44,
      "outputs": [
        {
          "output_type": "stream",
          "name": "stdout",
          "text": [
            "3\n",
            "4\n",
            "[1, 2, 3]\n",
            "dragon\n",
            "i\n",
            "[1, 2, 3, 4, 5]\n",
            "2\n",
            "9\n",
            "[61, 2, 9, 5, 3, 78, 63, 5, 6]\n",
            "[61, 2, 9, 5, 3, 78, 63, 5, 6]\n",
            "[2, 3, 5, 5, 6, 9, 61, 63, 78]\n"
          ]
        }
      ]
    },
    {
      "cell_type": "code",
      "source": [
        " l2=[1,2,3]\n",
        " l3=l2\n",
        " l4=[1,2,3]\n",
        " print(l2==l3)\n",
        " print(l3==l4)\n",
        "\n",
        " print(l2 is l3)\n",
        " print(l3 is l4)"
      ],
      "metadata": {
        "colab": {
          "base_uri": "https://localhost:8080/"
        },
        "id": "rc924MyOOT_m",
        "outputId": "5807b175-09db-4227-c889-6ca0d9292154"
      },
      "execution_count": 38,
      "outputs": [
        {
          "output_type": "stream",
          "name": "stdout",
          "text": [
            "True\n",
            "True\n",
            "True\n",
            "False\n"
          ]
        }
      ]
    }
  ]
}