{
  "nbformat": 4,
  "nbformat_minor": 0,
  "metadata": {
    "colab": {
      "provenance": [],
      "authorship_tag": "ABX9TyNRut9zfe4pCO03KNRG6aBS",
      "include_colab_link": true
    },
    "kernelspec": {
      "name": "python3",
      "display_name": "Python 3"
    },
    "language_info": {
      "name": "python"
    }
  },
  "cells": [
    {
      "cell_type": "markdown",
      "metadata": {
        "id": "view-in-github",
        "colab_type": "text"
      },
      "source": [
        "<a href=\"https://colab.research.google.com/github/Pillalamarrivyshnavi/2216155_AIML_Bootcamp_2023/blob/main/Aiml_bootcamp_Day_3.ipynb\" target=\"_parent\"><img src=\"https://colab.research.google.com/assets/colab-badge.svg\" alt=\"Open In Colab\"/></a>"
      ]
    },
    {
      "cell_type": "code",
      "execution_count": 19,
      "metadata": {
        "colab": {
          "base_uri": "https://localhost:8080/"
        },
        "id": "K953BkqvJgOa",
        "outputId": "00ea7239-d273-470c-e544-09c9e0ef6d47"
      },
      "outputs": [
        {
          "output_type": "stream",
          "name": "stdout",
          "text": [
            "3\n",
            "2\n",
            "1\n",
            "5\n",
            "1\n",
            "6\n"
          ]
        }
      ],
      "source": [
        "#tuples-store multiple items in a single var\n",
        "my_tup=(1,2,3,4,5,1)\n",
        "my_tup1=(\"h1\",1.7,4,my_tup)\n",
        "\n",
        "n_tup=(\"Hii\",my_tup,my_tup1)\n",
        "print(n_tup[-1][-1][2])\n",
        "\n",
        "#tuple methods\n",
        "print(my_tup.count(1))\n",
        "print(my_tup.index(2))\n",
        "print(max(my_tup))\n",
        "print(min(my_tup))\n",
        "print(len(my_tup))"
      ]
    },
    {
      "cell_type": "code",
      "source": [
        "#sets\n",
        "my_set={1,2,3,4}\n",
        "set1={1,5.6,\"heyy\"}\n",
        "\n",
        "l=[1,5,8,2]\n",
        "print(l)\n",
        "set2=set(l)\n",
        "print(set2)\n",
        "\n",
        "#set methods\n",
        "my_set.add(5)\n",
        "print(my_set)\n",
        "\n",
        "my_set.update([5,6])\n",
        "print(my_set)\n",
        "\n",
        "my_set.discard(4)\n",
        "print(my_set)\n",
        "\n",
        "my_set.remove(5) #we will not get any error msg if not present\n",
        "print(my_set)\n",
        "\n",
        "#set opearations\n",
        "a={1,3,4,5}\n",
        "b={5,0,2,4}\n",
        "\n",
        "#union\n",
        "print(a|b)\n",
        "print(a.union(b))\n",
        "print(b.union(a))\n",
        "\n",
        "#intersection\n",
        "print(a&b)\n",
        "print(b.intersection(a))\n",
        "print(a.intersection(b))\n",
        "\n",
        "#difference\n",
        "print(a.difference(b))\n",
        "print(b.difference(a))"
      ],
      "metadata": {
        "colab": {
          "base_uri": "https://localhost:8080/"
        },
        "id": "N2MMj8ucNeJg",
        "outputId": "a2e369f3-dedb-4ba1-b80a-045aed1734d4"
      },
      "execution_count": 17,
      "outputs": [
        {
          "output_type": "stream",
          "name": "stdout",
          "text": [
            "[1, 5, 8, 2]\n",
            "{8, 1, 2, 5}\n",
            "{1, 2, 3, 4, 5}\n",
            "{1, 2, 3, 4, 5, 6}\n",
            "{1, 2, 3, 5, 6}\n",
            "{1, 2, 3, 6}\n",
            "{0, 1, 2, 3, 4, 5}\n",
            "{0, 1, 2, 3, 4, 5}\n",
            "{0, 1, 2, 3, 4, 5}\n",
            "{4, 5}\n",
            "{4, 5}\n",
            "{4, 5}\n",
            "{1, 3}\n",
            "{0, 2}\n"
          ]
        }
      ]
    },
    {
      "cell_type": "code",
      "source": [
        "print(my_set)\n",
        "my_set.discard(5)#we will not get any error  if no. not present\n",
        "print(my_set)\n",
        "\n",
        "my_set.remove(3) #we will get any error  if no. not present\n",
        "print(my_set)"
      ],
      "metadata": {
        "colab": {
          "base_uri": "https://localhost:8080/",
          "height": 252
        },
        "id": "eTBxPL9yPEG5",
        "outputId": "527b58a0-21a6-463a-e399-d4e53f3e5c8a"
      },
      "execution_count": 13,
      "outputs": [
        {
          "output_type": "stream",
          "name": "stdout",
          "text": [
            "{1, 2, 6}\n",
            "{1, 2, 6}\n"
          ]
        },
        {
          "output_type": "error",
          "ename": "KeyError",
          "evalue": "ignored",
          "traceback": [
            "\u001b[0;31m---------------------------------------------------------------------------\u001b[0m",
            "\u001b[0;31mKeyError\u001b[0m                                  Traceback (most recent call last)",
            "\u001b[0;32m<ipython-input-13-0bb65c6162e4>\u001b[0m in \u001b[0;36m<module>\u001b[0;34m\u001b[0m\n\u001b[1;32m      3\u001b[0m \u001b[0mprint\u001b[0m\u001b[0;34m(\u001b[0m\u001b[0mmy_set\u001b[0m\u001b[0;34m)\u001b[0m\u001b[0;34m\u001b[0m\u001b[0;34m\u001b[0m\u001b[0m\n\u001b[1;32m      4\u001b[0m \u001b[0;34m\u001b[0m\u001b[0m\n\u001b[0;32m----> 5\u001b[0;31m \u001b[0mmy_set\u001b[0m\u001b[0;34m.\u001b[0m\u001b[0mremove\u001b[0m\u001b[0;34m(\u001b[0m\u001b[0;36m3\u001b[0m\u001b[0;34m)\u001b[0m \u001b[0;31m#we will not get any error msg if not present\u001b[0m\u001b[0;34m\u001b[0m\u001b[0;34m\u001b[0m\u001b[0m\n\u001b[0m\u001b[1;32m      6\u001b[0m \u001b[0mprint\u001b[0m\u001b[0;34m(\u001b[0m\u001b[0mmy_set\u001b[0m\u001b[0;34m)\u001b[0m\u001b[0;34m\u001b[0m\u001b[0;34m\u001b[0m\u001b[0m\n",
            "\u001b[0;31mKeyError\u001b[0m: 3"
          ]
        }
      ]
    },
    {
      "cell_type": "code",
      "source": [
        "#dictionaries\n",
        "dict={\"name\":\"vysh\",1063:\"rno\"}\n",
        "print(dict[\"name\"])\n",
        "print(dict.keys())\n",
        "print(dict.values())\n",
        "print(dict.get(1063))"
      ],
      "metadata": {
        "colab": {
          "base_uri": "https://localhost:8080/"
        },
        "id": "0nMPsEU6QBEE",
        "outputId": "583d6eb0-3e4b-4082-cec1-48534541054b"
      },
      "execution_count": 16,
      "outputs": [
        {
          "output_type": "stream",
          "name": "stdout",
          "text": [
            "vysh\n",
            "dict_keys(['name', 1063])\n",
            "dict_values(['vysh', 'rno'])\n",
            "rno\n"
          ]
        }
      ]
    }
  ]
}