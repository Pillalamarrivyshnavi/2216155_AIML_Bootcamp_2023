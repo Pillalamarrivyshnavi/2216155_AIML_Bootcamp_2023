{
  "nbformat": 4,
  "nbformat_minor": 0,
  "metadata": {
    "colab": {
      "provenance": [],
      "authorship_tag": "ABX9TyNscbbsw+6ueGT5umIj+HcL",
      "include_colab_link": true
    },
    "kernelspec": {
      "name": "python3",
      "display_name": "Python 3"
    },
    "language_info": {
      "name": "python"
    }
  },
  "cells": [
    {
      "cell_type": "markdown",
      "metadata": {
        "id": "view-in-github",
        "colab_type": "text"
      },
      "source": [
        "<a href=\"https://colab.research.google.com/github/Pillalamarrivyshnavi/2216155_AIML_Bootcamp_2023/blob/main/Aiml_bootcamp_Assignment_1.ipynb\" target=\"_parent\"><img src=\"https://colab.research.google.com/assets/colab-badge.svg\" alt=\"Open In Colab\"/></a>"
      ]
    },
    {
      "cell_type": "code",
      "execution_count": 4,
      "metadata": {
        "colab": {
          "base_uri": "https://localhost:8080/"
        },
        "id": "UfKtKvW9Q2Q2",
        "outputId": "462243ee-1cee-4af6-f315-b8e0c5c706c2"
      },
      "outputs": [
        {
          "output_type": "stream",
          "name": "stdout",
          "text": [
            "Hi Vyshu\n",
            "Hi vyshu\n",
            "4\n",
            "0\n",
            "True\n"
          ]
        }
      ],
      "source": [
        "#strings\n",
        "my_str=\"Hi Vyshu\"\n",
        "print(my_str.title())\n",
        "print(my_str.capitalize())\n",
        "print(my_str.find('y'))  \n",
        "print(my_str.index(\"H\"))\n",
        "print(my_str.endswith('u'))"
      ]
    },
    {
      "cell_type": "code",
      "source": [
        "#list methods\n",
        "l=[1,\"hi\",6.0]\n",
        "l.append(4)\n",
        "print(l)\n",
        "print(l.index('hi'))\n",
        "l.reverse()\n",
        "print(l)\n",
        "l.insert(1,'o')#(index,\"char\")\n",
        "print(l)\n",
        "l2=l.copy()\n",
        "print(l2)"
      ],
      "metadata": {
        "colab": {
          "base_uri": "https://localhost:8080/"
        },
        "id": "__WUw5wB8120",
        "outputId": "faeae4a4-95a4-4722-d181-86e1411a73c0"
      },
      "execution_count": 5,
      "outputs": [
        {
          "output_type": "stream",
          "name": "stdout",
          "text": [
            "[1, 'hi', 6.0, 4]\n",
            "1\n",
            "[4, 6.0, 'hi', 1]\n",
            "[4, 'o', 6.0, 'hi', 1]\n",
            "[4, 'o', 6.0, 'hi', 1]\n"
          ]
        }
      ]
    },
    {
      "cell_type": "code",
      "source": [
        "#tuples\n",
        "t=(1,4.5,5,8.00 )\n",
        "t1=(4,\"yayy\",\"hello\",t)\n",
        "t2=(\"hello\",1,4,4.5,t1,t)\n",
        "nt=(3,\"joe\",t1,t,t2)\n",
        "print(nt.count('1'))\n",
        "print(nt[-1][-2][-1][0])\n",
        "print(max(t))\n",
        "print(min(t))\n",
        "print(len(t))"
      ],
      "metadata": {
        "colab": {
          "base_uri": "https://localhost:8080/"
        },
        "id": "ywjsmJ5oXk_f",
        "outputId": "5afdd7cd-6871-45ab-9b99-bd37e46900c5"
      },
      "execution_count": 6,
      "outputs": [
        {
          "output_type": "stream",
          "name": "stdout",
          "text": [
            "0\n",
            "1\n",
            "8.0\n",
            "1\n",
            "4\n"
          ]
        }
      ]
    },
    {
      "cell_type": "code",
      "source": [
        "#dictionaries\n",
        "dict={\"name\":\"vysh\",\"rno\":1063}\n",
        "print(dict.fromkeys(\"name\"))\n",
        "print(dict.keys())\n",
        "print(dict.values())\n",
        "print(dict.items())\n",
        "print(dict.update({\"rno\":556}))\n",
        "print(dict.items())"
      ],
      "metadata": {
        "colab": {
          "base_uri": "https://localhost:8080/"
        },
        "id": "LROP5s_b8oaX",
        "outputId": "a2648012-6e34-4bc9-9ec8-fcfb36bed50e"
      },
      "execution_count": 7,
      "outputs": [
        {
          "output_type": "stream",
          "name": "stdout",
          "text": [
            "{'n': None, 'a': None, 'm': None, 'e': None}\n",
            "dict_keys(['name', 'rno'])\n",
            "dict_values(['vysh', 1063])\n",
            "dict_items([('name', 'vysh'), ('rno', 1063)])\n",
            "None\n",
            "dict_items([('name', 'vysh'), ('rno', 556)])\n"
          ]
        }
      ]
    },
    {
      "cell_type": "code",
      "source": [
        "#sets\n",
        "s={'k',\"yy\",7}\n",
        "set={'u','ol',5,2.8}\n",
        "s1=set.copy()\n",
        "print(s1)\n",
        "print(set.pop())\n",
        "s2=set.intersection(s1)\n",
        "print(s2)\n",
        "set.update('6')\n",
        "print(set)\n",
        "print(set.isdisjoint(s))"
      ],
      "metadata": {
        "colab": {
          "base_uri": "https://localhost:8080/"
        },
        "id": "zUjS7Hst8p8Y",
        "outputId": "7a0998a0-7e0a-4bba-e5f7-abcd0536eb9d"
      },
      "execution_count": 8,
      "outputs": [
        {
          "output_type": "stream",
          "name": "stdout",
          "text": [
            "{5, 2.8, 'u', 'ol'}\n",
            "5\n",
            "{2.8, 'u', 'ol'}\n",
            "{2.8, 'u', '6', 'ol'}\n",
            "True\n"
          ]
        }
      ]
    },
    {
      "cell_type": "code",
      "source": [
        "c=45\n",
        "print(\"Binary number is:\",bin(c))\n",
        "print(\"Hexadecimal number is:\",hex(c))\n",
        "print(\"Octal number is:\",oct(c))"
      ],
      "metadata": {
        "colab": {
          "base_uri": "https://localhost:8080/"
        },
        "id": "oCsXOhvd9Iua",
        "outputId": "4c65bf2a-e80d-44f5-95e1-e7191bedeafc"
      },
      "execution_count": 9,
      "outputs": [
        {
          "output_type": "stream",
          "name": "stdout",
          "text": [
            "Binary number is: 0b101101\n",
            "Hexadecimal number is: 0x2d\n",
            "Octal number is: 0o55\n"
          ]
        }
      ]
    },
    {
      "cell_type": "code",
      "source": [
        "#arithmetic operators\n",
        "print(\"arithmetic operators\")\n",
        "t=(1,4.5,5,8.00 )\n",
        "a=20\n",
        "b=2\n",
        "\n",
        "print(t[1]+b)\n",
        "print(a-t[3])\n",
        "print(int(t[-1]/t[-3]))\n",
        "print(a*b)\n",
        "print(a**b)\n",
        "print(t[3]//b)"
      ],
      "metadata": {
        "colab": {
          "base_uri": "https://localhost:8080/"
        },
        "id": "8XBi0K_vYWEt",
        "outputId": "c623faf5-f112-4ca4-da11-1c0bca9e92cf"
      },
      "execution_count": 10,
      "outputs": [
        {
          "output_type": "stream",
          "name": "stdout",
          "text": [
            "arithmetic operators\n",
            "6.5\n",
            "12.0\n",
            "1\n",
            "40\n",
            "400\n",
            "4.0\n"
          ]
        }
      ]
    },
    {
      "cell_type": "code",
      "source": [
        "#assignment operators\n",
        "t=(1,2,3,4,8)\n",
        "l=[5,7,1]\n",
        "print(l)\n",
        "t1=tuple(l)\n",
        "print(t1)\n",
        "\n",
        "a=t[-1]\n",
        "b=t[-2]\n",
        "c=a/b\n",
        "c+=a\n",
        "print(c)\n",
        " "
      ],
      "metadata": {
        "colab": {
          "base_uri": "https://localhost:8080/"
        },
        "id": "qxP1g-1JYXVI",
        "outputId": "f658a3dc-ba12-4b17-8b55-367b1a074d8b"
      },
      "execution_count": 11,
      "outputs": [
        {
          "output_type": "stream",
          "name": "stdout",
          "text": [
            "[5, 7, 1]\n",
            "(5, 7, 1)\n",
            "10.0\n"
          ]
        }
      ]
    },
    {
      "cell_type": "code",
      "source": [
        "#comparison operators\n",
        "t=(1,2,3,4,8)\n",
        "l=[5,7,1]\n",
        "print(l)\n",
        "t1=tuple(l)\n",
        "print(t1)\n",
        "a=t1[-1]\n",
        "b=l[2]\n",
        "print(a==b)\n",
        "print(a<=b)\n",
        "print(a>=b)\n",
        "print(a<<b)\n",
        "print(a>>b)\n",
        "print(a!=b)"
      ],
      "metadata": {
        "colab": {
          "base_uri": "https://localhost:8080/"
        },
        "id": "e9BSydLwYj5m",
        "outputId": "a513f7a9-e9f1-4495-9631-7a0da385aa7d"
      },
      "execution_count": 12,
      "outputs": [
        {
          "output_type": "stream",
          "name": "stdout",
          "text": [
            "[5, 7, 1]\n",
            "(5, 7, 1)\n",
            "True\n",
            "True\n",
            "True\n",
            "2\n",
            "0\n",
            "False\n"
          ]
        }
      ]
    },
    {
      "cell_type": "code",
      "source": [
        "#logical operators-and or not\n",
        "t=True\n",
        "f=False\n",
        "print(\"t and f is:\",t and f)\n",
        "print(\"t or f is:\",t or f)\n",
        "print(\"t not f is:\",not f)"
      ],
      "metadata": {
        "colab": {
          "base_uri": "https://localhost:8080/"
        },
        "id": "ojkPcp6nYoXv",
        "outputId": "3361e781-10ef-4a15-a2c1-4c79772cf203"
      },
      "execution_count": 13,
      "outputs": [
        {
          "output_type": "stream",
          "name": "stdout",
          "text": [
            "t and f is: False\n",
            "t or f is: True\n",
            "t not f is: True\n"
          ]
        }
      ]
    },
    {
      "cell_type": "code",
      "source": [
        "#bitwise opearators\n",
        "a=13  \n",
        "b=14  \n",
        "\n",
        "print(a&b) #and\n",
        "print(a|b) #or\n",
        "print(~a) #not\n",
        "print(a^b) #XOr\n",
        "print(a>>2) #right shift\n",
        "print(a<<2) #left shift\n",
        "\n",
        " "
      ],
      "metadata": {
        "colab": {
          "base_uri": "https://localhost:8080/"
        },
        "id": "L0ZLt4I_YcSY",
        "outputId": "efe54f07-816f-4f34-99c3-9af6f10d5712"
      },
      "execution_count": 14,
      "outputs": [
        {
          "output_type": "stream",
          "name": "stdout",
          "text": [
            "12\n",
            "15\n",
            "-14\n",
            "3\n",
            "3\n",
            "52\n"
          ]
        }
      ]
    },
    {
      "cell_type": "code",
      "source": [
        "#membership operators\n",
        "a=\"hey yooo!\"\n",
        "print(\"o\" in a)"
      ],
      "metadata": {
        "colab": {
          "base_uri": "https://localhost:8080/"
        },
        "id": "IM8hUUSWY6JA",
        "outputId": "777b28e0-bd87-45e2-9e9b-7583e1fdfe8d"
      },
      "execution_count": 15,
      "outputs": [
        {
          "output_type": "stream",
          "name": "stdout",
          "text": [
            "True\n"
          ]
        }
      ]
    },
    {
      "cell_type": "code",
      "source": [
        "#identity operators\n",
        "a1=5\n",
        "b1=5\n",
        "a2=\"yayy\"\n",
        "b2=\"yayy\"\n",
        "a3=[6,7,8]\n",
        "b3=[6,7,8]\n",
        "print(a1 is not b1)\n",
        "print(a2 is b2)\n",
        "print(a3 is b3)"
      ],
      "metadata": {
        "colab": {
          "base_uri": "https://localhost:8080/"
        },
        "id": "wQyXsepxY7dG",
        "outputId": "ae246e85-5f99-4076-c895-27360b8ec1c7"
      },
      "execution_count": 16,
      "outputs": [
        {
          "output_type": "stream",
          "name": "stdout",
          "text": [
            "False\n",
            "True\n",
            "False\n"
          ]
        }
      ]
    },
    {
      "cell_type": "code",
      "source": [
        "l=[3,7.9,\"hello\",\"hii\",\"welcome\"]\n",
        "l1=[\"python\",l]\n",
        "l2=[\"program\",\"students\",l1,l]\n",
        "l3=[4,6,3.7,\"whattt\",l2,l1,l]\n",
        "print(l3[-3::-2]) "
      ],
      "metadata": {
        "colab": {
          "base_uri": "https://localhost:8080/"
        },
        "id": "aULPZsSD-G1Z",
        "outputId": "2d386cd1-2359-4f04-fe36-efede1fc3ad0"
      },
      "execution_count": 23,
      "outputs": [
        {
          "output_type": "stream",
          "name": "stdout",
          "text": [
            "[['program', 'students', ['python', [3, 7.9, 'hello', 'hii', 'welcome']], [3, 7.9, 'hello', 'hii', 'welcome']], 3.7, 4]\n"
          ]
        }
      ]
    },
    {
      "cell_type": "code",
      "source": [
        "#reverse the string and prints the 3rd letter starting from the 4th at last(from 0)\n",
        "print( \"A series of characters designated as one object known as a string\"[::-1][4::3])\n",
        "print(\"-------------\")\n",
        "print( \"Welcome to Python traing program\"[3:10][::-1])"
      ],
      "metadata": {
        "colab": {
          "base_uri": "https://localhost:8080/"
        },
        "id": "-dY9a6opUv2v",
        "outputId": "c70bacd7-7b03-4426-f858-05e079e27239"
      },
      "execution_count": 18,
      "outputs": [
        {
          "output_type": "stream",
          "name": "stdout",
          "text": [
            "taawkcbe  tgestrcoeeA\n",
            "-------------\n",
            "ot emoc\n"
          ]
        }
      ]
    },
    {
      "cell_type": "code",
      "source": [
        "t=\"was it acar or a cat I saw\"\n",
        "y=(t[::-1])\n",
        "print(y.upper())"
      ],
      "metadata": {
        "colab": {
          "base_uri": "https://localhost:8080/"
        },
        "id": "Ta31WsikVNzE",
        "outputId": "083a6706-b0de-442e-b077-836141d06d17"
      },
      "execution_count": 19,
      "outputs": [
        {
          "output_type": "stream",
          "name": "stdout",
          "text": [
            "WAS I TAC A RO RACA TI SAW\n"
          ]
        }
      ]
    },
    {
      "cell_type": "code",
      "source": [
        "X=int(input())\n",
        "print(X*'Z'+2*X*'O')"
      ],
      "metadata": {
        "colab": {
          "base_uri": "https://localhost:8080/"
        },
        "id": "ffLC3gz4W3xl",
        "outputId": "60ed222f-4c3f-4915-88e5-1c95ff8d0a12"
      },
      "execution_count": 20,
      "outputs": [
        {
          "output_type": "stream",
          "name": "stdout",
          "text": [
            "5\n",
            "ZZZZZOOOOOOOOOO\n"
          ]
        }
      ]
    },
    {
      "cell_type": "code",
      "source": [
        "#ord() method would be giving ASCII of a character\n",
        "c=input(\"enter value\")\n",
        "print(ord(c))"
      ],
      "metadata": {
        "colab": {
          "base_uri": "https://localhost:8080/"
        },
        "id": "ylFn__LJbE1n",
        "outputId": "477a9668-23b4-4013-ab57-27e802fb9a8c"
      },
      "execution_count": 21,
      "outputs": [
        {
          "output_type": "stream",
          "name": "stdout",
          "text": [
            "enter value5\n",
            "53\n"
          ]
        }
      ]
    },
    {
      "cell_type": "code",
      "source": [
        "#join()\n",
        "l1=['v','y','s','h']\n",
        "print(\"\".join(l1))\n",
        "li=[\"Hii\",\"I am\",\"Attending\",\"Bootcamp\"]\n",
        "print(\" \".join(li))\n"
      ],
      "metadata": {
        "colab": {
          "base_uri": "https://localhost:8080/"
        },
        "id": "yTN9sos5caF2",
        "outputId": "02cd4050-eaff-4898-8a1a-b3bfc9877134"
      },
      "execution_count": 22,
      "outputs": [
        {
          "output_type": "stream",
          "name": "stdout",
          "text": [
            "vysh\n",
            "Hii I am Attending Bootcamp\n"
          ]
        }
      ]
    }
  ]
}