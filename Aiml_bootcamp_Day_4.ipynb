{
  "nbformat": 4,
  "nbformat_minor": 0,
  "metadata": {
    "colab": {
      "provenance": [],
      "authorship_tag": "ABX9TyO7Y9JXvulR8ISjsddkQpRX",
      "include_colab_link": true
    },
    "kernelspec": {
      "name": "python3",
      "display_name": "Python 3"
    },
    "language_info": {
      "name": "python"
    }
  },
  "cells": [
    {
      "cell_type": "markdown",
      "metadata": {
        "id": "view-in-github",
        "colab_type": "text"
      },
      "source": [
        "<a href=\"https://colab.research.google.com/github/Pillalamarrivyshnavi/2216155_AIML_Bootcamp_2023/blob/main/Aiml_bootcamp_Day_4.ipynb\" target=\"_parent\"><img src=\"https://colab.research.google.com/assets/colab-badge.svg\" alt=\"Open In Colab\"/></a>"
      ]
    },
    {
      "cell_type": "code",
      "execution_count": 7,
      "metadata": {
        "colab": {
          "base_uri": "https://localhost:8080/"
        },
        "id": "Ovdt-oDvdlXJ",
        "outputId": "50f7943d-43df-4db1-a95c-8d68dcb17b5c"
      },
      "outputs": [
        {
          "output_type": "stream",
          "name": "stdout",
          "text": [
            "True\n",
            "450\n",
            "false\n",
            "enter age:4\n",
            "not eligible to vote\n"
          ]
        }
      ],
      "source": [
        "#decision making\n",
        "\n",
        "#if statement\n",
        "a=450\n",
        "if a>0:\n",
        "  print(\"True\")\n",
        "  print(a)\n",
        "\n",
        "#if- else statement\n",
        "b=-3\n",
        "if b<0:\n",
        "  print(\"false\")\n",
        "else:\n",
        "  print(\"true\")\n",
        "\n",
        "#nested if\n",
        "a=int(input(\"enter age:\"))\n",
        "if(a>0):\n",
        "  if(a>18):\n",
        "    print(\"eigible to vote\")\n",
        "  elif(a<18):\n",
        "    print(\"not eligible to vote\")\n",
        "else:\n",
        "  print(\"enter valid number\")"
      ]
    },
    {
      "cell_type": "code",
      "source": [
        "#python loops\n",
        "n=[1,2,3,4,5,5]\n",
        "for i in range(1,7): #(1,n-1)\n",
        "  print(i)\n",
        "s=0\n",
        "for j in n:\n",
        "  s=s+j\n",
        "print(\"sum:\",s)\n",
        "\n",
        "for i in range(1,6,3):\n",
        "  print(i)"
      ],
      "metadata": {
        "colab": {
          "base_uri": "https://localhost:8080/"
        },
        "id": "Ic6syaXXgzKr",
        "outputId": "a03d1602-c0dc-4c2c-b7fa-8924fa73b8eb"
      },
      "execution_count": 18,
      "outputs": [
        {
          "output_type": "stream",
          "name": "stdout",
          "text": [
            "1\n",
            "2\n",
            "3\n",
            "4\n",
            "5\n",
            "6\n",
            "sum: 20\n",
            "1\n",
            "4\n"
          ]
        }
      ]
    },
    {
      "cell_type": "code",
      "source": [
        "#while loop -used for large data\n",
        "c=1\n",
        "while(c<7):\n",
        "  print(c)\n",
        "  c=c+1\n"
      ],
      "metadata": {
        "colab": {
          "base_uri": "https://localhost:8080/"
        },
        "id": "fNihGjEWiB94",
        "outputId": "8ac195e7-90b4-4361-cb4a-62d32953717f"
      },
      "execution_count": 20,
      "outputs": [
        {
          "output_type": "stream",
          "name": "stdout",
          "text": [
            "1\n",
            "2\n",
            "3\n",
            "4\n",
            "5\n",
            "6\n"
          ]
        }
      ]
    },
    {
      "cell_type": "code",
      "source": [
        "#nested loop\n",
        "\n",
        "#nested for\n",
        "x=[[3,4,5],[4,5,6],[7,8,6]]\n",
        "y=[[4,8,12],[1,1,0],[5,3,0]]\n",
        "res=[[0,0,0],[0,0,0],[0,0,0]]\n",
        "\n",
        "for i in range(len(x)):\n",
        "  for j in range(len(x[0])):\n",
        "    res[i][j]=x[i][j]+y[i][j]\n",
        "for r in res:\n",
        "  print(r)"
      ],
      "metadata": {
        "colab": {
          "base_uri": "https://localhost:8080/"
        },
        "id": "US4FhdbGiqVV",
        "outputId": "5ff12ab9-2a5b-4e9d-f683-544148b6d307"
      },
      "execution_count": 21,
      "outputs": [
        {
          "output_type": "stream",
          "name": "stdout",
          "text": [
            "[7, 12, 17]\n",
            "[5, 6, 6]\n",
            "[12, 11, 6]\n"
          ]
        }
      ]
    },
    {
      "cell_type": "code",
      "source": [
        "#nested while loop\n",
        "n=int(input(\"enter until which table you need\"))\n",
        "i=1\n",
        "while(i<=n):\n",
        "  print(f\"table {i}\")\n",
        "  j=1\n",
        "  while(j<=10):\n",
        "    print(f\"{i}*{j}={i*j}\")\n",
        "    j=j+1\n",
        "  print(\"___________________\")\n",
        "  i=i+1"
      ],
      "metadata": {
        "colab": {
          "base_uri": "https://localhost:8080/"
        },
        "id": "pEEYU5DFj-T6",
        "outputId": "d0a10da9-7503-48ad-c060-88df6f66824a"
      },
      "execution_count": 24,
      "outputs": [
        {
          "output_type": "stream",
          "name": "stdout",
          "text": [
            "enter until which table you need3\n",
            "table 1\n",
            "1*1=1\n",
            "1*2=2\n",
            "1*3=3\n",
            "1*4=4\n",
            "1*5=5\n",
            "1*6=6\n",
            "1*7=7\n",
            "1*8=8\n",
            "1*9=9\n",
            "1*10=10\n",
            "___________________\n",
            "table 2\n",
            "2*1=2\n",
            "2*2=4\n",
            "2*3=6\n",
            "2*4=8\n",
            "2*5=10\n",
            "2*6=12\n",
            "2*7=14\n",
            "2*8=16\n",
            "2*9=18\n",
            "2*10=20\n",
            "___________________\n",
            "table 3\n",
            "3*1=3\n",
            "3*2=6\n",
            "3*3=9\n",
            "3*4=12\n",
            "3*5=15\n",
            "3*6=18\n",
            "3*7=21\n",
            "3*8=24\n",
            "3*9=27\n",
            "3*10=30\n",
            "___________________\n"
          ]
        }
      ]
    },
    {
      "cell_type": "code",
      "source": [
        "#control statements\n",
        "\n",
        "#break\n",
        "for q in \"python\":\n",
        "  if(q=='h'):\n",
        "    break\n",
        "  print(\"current letter\",q )\n",
        "print(\"______________________________\")\n",
        "#continue\n",
        "for q in \"python\":\n",
        "  if(q=='h'):\n",
        "    continue\n",
        "  print(\"current letter\",q)\n",
        "print(\"______________________________\")\n",
        "#pass\n",
        "for q in \"python\":\n",
        "  if(q=='h'):\n",
        "    pass\n",
        "    print(\"this ia pass block\")\n",
        "  print(\"current letter\",q)\n"
      ],
      "metadata": {
        "colab": {
          "base_uri": "https://localhost:8080/"
        },
        "id": "ek4d6_KnlhwY",
        "outputId": "6703d77a-2142-4009-ec0c-442822a4f1f8"
      },
      "execution_count": 30,
      "outputs": [
        {
          "output_type": "stream",
          "name": "stdout",
          "text": [
            "current letter p\n",
            "current letter y\n",
            "current letter t\n",
            "______________________________\n",
            "current letter p\n",
            "current letter y\n",
            "current letter t\n",
            "current letter o\n",
            "current letter n\n",
            "______________________________\n",
            "current letter p\n",
            "current letter y\n",
            "current letter t\n",
            "this ia pass block\n",
            "current letter h\n",
            "current letter o\n",
            "current letter n\n"
          ]
        }
      ]
    },
    {
      "cell_type": "code",
      "source": [
        "#functions\n",
        "def greet(name):\n",
        "  '''this function greets a person'''\n",
        "  print(\"HELLO, \\t\"+name+ \"\\t good morning\")\n",
        "greet(\"vysh\")"
      ],
      "metadata": {
        "colab": {
          "base_uri": "https://localhost:8080/"
        },
        "id": "FzEWvOUYm7yO",
        "outputId": "43661164-a71c-4a50-f5ec-e6fd925b26be"
      },
      "execution_count": 31,
      "outputs": [
        {
          "output_type": "stream",
          "name": "stdout",
          "text": [
            "HELLO, \tvysh\t good morning\n"
          ]
        }
      ]
    },
    {
      "cell_type": "code",
      "source": [
        "#default\n",
        "def A(a,b=1,c=2):\n",
        "  return a+b+c\n",
        "print(A(3))\n",
        "print(A(4,4,4))"
      ],
      "metadata": {
        "colab": {
          "base_uri": "https://localhost:8080/"
        },
        "id": "GErqPsg6ok1X",
        "outputId": "1aec529d-3b6a-4e1c-c7b7-156731f6368a"
      },
      "execution_count": 32,
      "outputs": [
        {
          "output_type": "stream",
          "name": "stdout",
          "text": [
            "6\n",
            "12\n"
          ]
        }
      ]
    },
    {
      "cell_type": "code",
      "source": [
        "#keyword\n",
        "def A(a,b=1,c=2):\n",
        "    return a+b+c\n",
        "print(A(a=2,b=3))\n",
        "print(A(c=3,a=1,b=2))"
      ],
      "metadata": {
        "colab": {
          "base_uri": "https://localhost:8080/"
        },
        "id": "r8lKk-JmozpT",
        "outputId": "4164ba8f-10ac-4b80-dc48-6ae07baf52c7"
      },
      "execution_count": 33,
      "outputs": [
        {
          "output_type": "stream",
          "name": "stdout",
          "text": [
            "7\n",
            "6\n"
          ]
        }
      ]
    },
    {
      "cell_type": "code",
      "source": [
        "#positional\n",
        "def A(a,b,c):\n",
        "  return a+b+c\n",
        "print(A(10,10,20))"
      ],
      "metadata": {
        "colab": {
          "base_uri": "https://localhost:8080/"
        },
        "id": "hm2huSqwpOZ9",
        "outputId": "d47183d9-eb41-4d02-eea8-a008a9aa0005"
      },
      "execution_count": 34,
      "outputs": [
        {
          "output_type": "stream",
          "name": "stdout",
          "text": [
            "40\n"
          ]
        }
      ]
    },
    {
      "cell_type": "code",
      "source": [
        "#arbitrary positional\n",
        "def add_n(*n):\n",
        "  print(sum(n))\n",
        "add_n(1,2,3,4,5)"
      ],
      "metadata": {
        "colab": {
          "base_uri": "https://localhost:8080/"
        },
        "id": "2BR1IUFIpWgS",
        "outputId": "9c52c043-6626-49bb-b869-41733abb01aa"
      },
      "execution_count": 35,
      "outputs": [
        {
          "output_type": "stream",
          "name": "stdout",
          "text": [
            "15\n"
          ]
        }
      ]
    },
    {
      "cell_type": "code",
      "source": [
        "#arbitrary keywords\n",
        "def key_args(**kwargs):\n",
        "  return kwargs\n",
        "m=key_args(Apples=30,Bananas=40,cherries=50)\n",
        "print(m['Apples'])\n",
        "print(m)"
      ],
      "metadata": {
        "colab": {
          "base_uri": "https://localhost:8080/"
        },
        "id": "oNr3zuHPqDuw",
        "outputId": "4d97105b-e17e-4482-dc10-cf8bfc692fe3"
      },
      "execution_count": 37,
      "outputs": [
        {
          "output_type": "stream",
          "name": "stdout",
          "text": [
            "30\n",
            "{'Apples': 30, 'Bananas': 40, 'cherries': 50}\n"
          ]
        }
      ]
    },
    {
      "cell_type": "code",
      "source": [
        "#higher order functions\n",
        "def shout(text):\n",
        "  return text.upper()\n",
        "def whisper(text):\n",
        "  return text.lower()\n",
        "def explain(func):\n",
        "  greet=func(\"hi ,iam HiGHer OrdwR fUnction\")\n",
        "  print(greet)\n",
        "\n",
        "explain(shout)\n",
        "explain(whisper)"
      ],
      "metadata": {
        "colab": {
          "base_uri": "https://localhost:8080/"
        },
        "id": "gybpt1_bqdJ-",
        "outputId": "9978259b-efde-4283-8b45-28a4a4e8b894"
      },
      "execution_count": 44,
      "outputs": [
        {
          "output_type": "stream",
          "name": "stdout",
          "text": [
            "HI ,IAM HIGHER ORDWR FUNCTION\n",
            "hi ,iam higher ordwr function\n"
          ]
        }
      ]
    }
  ]
}