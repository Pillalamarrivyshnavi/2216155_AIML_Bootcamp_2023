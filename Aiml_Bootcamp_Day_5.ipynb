{
  "nbformat": 4,
  "nbformat_minor": 0,
  "metadata": {
    "colab": {
      "provenance": [],
      "authorship_tag": "ABX9TyN2YjX+MdiF7fistSgHcBuE",
      "include_colab_link": true
    },
    "kernelspec": {
      "name": "python3",
      "display_name": "Python 3"
    },
    "language_info": {
      "name": "python"
    }
  },
  "cells": [
    {
      "cell_type": "markdown",
      "metadata": {
        "id": "view-in-github",
        "colab_type": "text"
      },
      "source": [
        "<a href=\"https://colab.research.google.com/github/Pillalamarrivyshnavi/2216155_AIML_Bootcamp_2023/blob/main/Aiml_Bootcamp_Day_5.ipynb\" target=\"_parent\"><img src=\"https://colab.research.google.com/assets/colab-badge.svg\" alt=\"Open In Colab\"/></a>"
      ]
    },
    {
      "cell_type": "code",
      "execution_count": null,
      "metadata": {
        "colab": {
          "base_uri": "https://localhost:8080/"
        },
        "id": "GADJ7NOREYS6",
        "outputId": "86c555a5-0b88-420c-a108-42e8ca680c0b"
      },
      "outputs": [
        {
          "output_type": "stream",
          "name": "stdout",
          "text": [
            "5\n",
            "4\n"
          ]
        }
      ],
      "source": [
        "#Lambda function-take any no. of args but can have only one expression\n",
        "#lambda x:x+1\n",
        "def inc(x):\n",
        "  x=x+1\n",
        "  return x\n",
        "\n",
        "print((lambda x:x+1)(4))\n",
        "\n",
        "inc(4)\n",
        "\n",
        "print((lambda x,y:x**y)(2,2))"
      ]
    },
    {
      "cell_type": "code",
      "source": [
        "#we cant use lambda for list,so we use map\n",
        "li=[1,2,3,4]\n",
        "'''def fun(n):\n",
        "  return n+2\n",
        "res=list(map(inc,li)) \n",
        "print(res)'''\n",
        "\n",
        "print(list(map(lambda x:x+2,li)))"
      ],
      "metadata": {
        "colab": {
          "base_uri": "https://localhost:8080/"
        },
        "id": "0lOlZQEJFV0X",
        "outputId": "b2c069d8-91ea-4d62-e970-a0511174a16d"
      },
      "execution_count": null,
      "outputs": [
        {
          "output_type": "stream",
          "name": "stdout",
          "text": [
            "[3, 4, 5, 6]\n"
          ]
        }
      ]
    },
    {
      "cell_type": "code",
      "source": [
        "l1=[  'Aha','Netflix','zEE']\n",
        "print(list(map(lambda x:x.lower(),l1)))\n",
        "print(list(map(lambda x:x.upper(),l1)))\n",
        "print(list(map(lambda x:x.title(),l1)))\n",
        "print(list(map(lambda x:x.startswith('Aha'),l1)))\n",
        "print(list(map(lambda x:x.swapcase(),l1)))"
      ],
      "metadata": {
        "colab": {
          "base_uri": "https://localhost:8080/"
        },
        "id": "12blySQeF94T",
        "outputId": "95ec11b9-fc6f-4a87-b657-a6b098de173b"
      },
      "execution_count": null,
      "outputs": [
        {
          "output_type": "stream",
          "name": "stdout",
          "text": [
            "['aha', 'netflix', 'zee']\n",
            "['AHA', 'NETFLIX', 'ZEE']\n",
            "['Aha', 'Netflix', 'Zee']\n",
            "[True, False, False]\n",
            "['aHA', 'nETFLIX', 'Zee']\n"
          ]
        }
      ]
    },
    {
      "cell_type": "code",
      "source": [
        "def eod(n):\n",
        "  if n%2 ==0:\n",
        "    return \"the number {} is even\".format(n)\n",
        "  else:\n",
        "    return \"the number {} is odd\".format(n)\n",
        "\n",
        "eod(20)"
      ],
      "metadata": {
        "colab": {
          "base_uri": "https://localhost:8080/",
          "height": 36
        },
        "id": "bRUFZfJZILuw",
        "outputId": "38f7c252-49d9-4524-95e1-aebee396d3f8"
      },
      "execution_count": null,
      "outputs": [
        {
          "output_type": "execute_result",
          "data": {
            "text/plain": [
              "'the number 20 is even'"
            ],
            "application/vnd.google.colaboratory.intrinsic+json": {
              "type": "string"
            }
          },
          "metadata": {},
          "execution_count": 30
        }
      ]
    },
    {
      "cell_type": "code",
      "source": [
        "l2=[1,2,3,4,5,6,7]\n",
        "list(map(eod,l2))"
      ],
      "metadata": {
        "colab": {
          "base_uri": "https://localhost:8080/"
        },
        "id": "KigYeXAUIq6S",
        "outputId": "afce3e9a-8c6b-4118-f940-d84f592719e8"
      },
      "execution_count": null,
      "outputs": [
        {
          "output_type": "execute_result",
          "data": {
            "text/plain": [
              "['the number 1 is odd',\n",
              " 'the number 2 is even',\n",
              " 'the number 3 is odd',\n",
              " 'the number 4 is even',\n",
              " 'the number 5 is odd',\n",
              " 'the number 6 is even',\n",
              " 'the number 7 is odd']"
            ]
          },
          "metadata": {},
          "execution_count": 28
        }
      ]
    },
    {
      "cell_type": "code",
      "source": [
        "#filter-conditional things\n",
        "def odd_n(n):\n",
        "  if n%2 != 0:\n",
        "    return n\n",
        "\n",
        "my_l=[63,55,4,25,6]\n",
        "print(list(map(odd_n,my_l)))\n",
        "print(list(filter(odd_n,my_l)))\n",
        "my_l=[63,55,4,25,6]\n",
        "print(list(filter(lambda x:x%2 !=0 ,my_l))) #here,using lambda we could check the condition then and there"
      ],
      "metadata": {
        "colab": {
          "base_uri": "https://localhost:8080/"
        },
        "id": "C4EciP3zJNS0",
        "outputId": "5220bf7c-3eed-4954-fb1a-fddb466ac0cb"
      },
      "execution_count": null,
      "outputs": [
        {
          "output_type": "stream",
          "name": "stdout",
          "text": [
            "[63, 55, None, 25, None]\n",
            "[63, 55, 25]\n",
            "[63, 55, 25]\n"
          ]
        }
      ]
    },
    {
      "cell_type": "code",
      "source": [
        "#OOPS concepts\n",
        "#class and obj\n",
        "\n",
        "class C:\n",
        "  def addn(self,a,b):#self represents if some operations are done it rewrites to self like a reference\n",
        "    return a+b\n",
        "  def subn(self,a,b):\n",
        "    return a-b\n",
        "\n",
        "O=C()\n",
        "print(\"Addition of two numbers is:\",O.addn(5,3))\n",
        "print(\"subtraction of two numbers is:\",O.subn(5,3))"
      ],
      "metadata": {
        "colab": {
          "base_uri": "https://localhost:8080/"
        },
        "id": "cgoVBAfYMFOR",
        "outputId": "6992e535-be2f-4ff1-aaa1-bccbd1a62ff8"
      },
      "execution_count": null,
      "outputs": [
        {
          "output_type": "stream",
          "name": "stdout",
          "text": [
            "Addition of two numbers is: 8\n",
            "subtraction of two numbers is: 2\n"
          ]
        }
      ]
    },
    {
      "cell_type": "code",
      "source": [
        "class A:\n",
        "  def pow(self,n,m):\n",
        "    return n**m\n",
        "\n",
        "obj=A()\n",
        "print(obj.pow(3,2))"
      ],
      "metadata": {
        "colab": {
          "base_uri": "https://localhost:8080/"
        },
        "id": "nZYEGFMUKk25",
        "outputId": "184680be-ee42-4900-fb73-dc681b6631c3"
      },
      "execution_count": null,
      "outputs": [
        {
          "output_type": "stream",
          "name": "stdout",
          "text": [
            "9\n"
          ]
        }
      ]
    },
    {
      "cell_type": "code",
      "source": [
        "#inheritance\n",
        "#simple\n",
        "class Animal:\n",
        "  def animal_sounds(self):\n",
        "    return \"makes sound\"\n",
        "class Cat(Animal):\n",
        "  def cat_sounds(self):\n",
        "    return \"Cat\" +self.animal_sounds()+\" MEOW\"\n",
        "  '''def __str__(self): #__str__ default keyword to print\n",
        "    return  \"cat\"'''\n",
        "\n",
        "obj1=Cat()\n",
        "print(obj1,obj1.cat_sounds())"
      ],
      "metadata": {
        "colab": {
          "base_uri": "https://localhost:8080/"
        },
        "id": "PkMRLIwUNl2h",
        "outputId": "83ebb37c-adbc-47bc-98fc-40a33afa09a3"
      },
      "execution_count": null,
      "outputs": [
        {
          "output_type": "stream",
          "name": "stdout",
          "text": [
            "<__main__.Cat object at 0x7f52a6d3ec40> Catmakes sound MEOW\n"
          ]
        }
      ]
    },
    {
      "cell_type": "code",
      "source": [
        "# hierarchial\n",
        "class Animal:\n",
        "  def animal_sounds(self):\n",
        "    return \"makes sound\"\n",
        "class Cat(Animal):\n",
        "  def cat_sounds(self):\n",
        "    return  self.animal_sounds()+\" MEOW\"\n",
        "  def __str__(self):  \n",
        "    return  \"cat\" \n",
        "class Dog(Animal):\n",
        "  def dog_sound(self):\n",
        "    return self.animal_sounds()+ \" BOW\"\n",
        "  def __str__(self):\n",
        "    return \"DOG\"\n",
        "\n",
        "obj1=Cat()\n",
        "do=Dog()\n",
        "print(obj1,obj1.cat_sounds())\n",
        "\n",
        "print(obj1,do.dog_sound())"
      ],
      "metadata": {
        "colab": {
          "base_uri": "https://localhost:8080/"
        },
        "id": "X9l5y3oAQMZl",
        "outputId": "4b46a455-c667-4ec1-dce3-482dfef98cfe"
      },
      "execution_count": null,
      "outputs": [
        {
          "output_type": "stream",
          "name": "stdout",
          "text": [
            "cat makes sound MEOW\n",
            "cat makes sound BOW\n"
          ]
        }
      ]
    },
    {
      "cell_type": "code",
      "source": [
        "#multilevel \n",
        "class Animal:\n",
        "  def animal_sound(self):\n",
        "    return \"makes sound\"\n",
        "class Cat(Animal):\n",
        "  def cat_sound(self):\n",
        "    return self.animal_sound()+\" MEOW\"\n",
        "class Cat_color(Cat):\n",
        "  def color(self):\n",
        "    return \"color is white\"\n",
        "  def __str__(self):\n",
        "    return \"cat\"\n",
        "\n",
        "cc=Cat_color()\n",
        "print(cc,cc.color())\n",
        "print(cc,cc.cat_sound())"
      ],
      "metadata": {
        "colab": {
          "base_uri": "https://localhost:8080/"
        },
        "id": "wzDAYX2IPU26",
        "outputId": "dc4807d9-0905-4cf3-beec-19174e502a73"
      },
      "execution_count": null,
      "outputs": [
        {
          "output_type": "stream",
          "name": "stdout",
          "text": [
            "cat color is white\n",
            "cat makes sound MEOW\n"
          ]
        }
      ]
    }
  ]
}