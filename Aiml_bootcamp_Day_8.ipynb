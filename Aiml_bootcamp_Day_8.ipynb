{
  "nbformat": 4,
  "nbformat_minor": 0,
  "metadata": {
    "colab": {
      "provenance": [],
      "authorship_tag": "ABX9TyO8gri2laWi+lcQA44g0Wx1",
      "include_colab_link": true
    },
    "kernelspec": {
      "name": "python3",
      "display_name": "Python 3"
    },
    "language_info": {
      "name": "python"
    }
  },
  "cells": [
    {
      "cell_type": "markdown",
      "metadata": {
        "id": "view-in-github",
        "colab_type": "text"
      },
      "source": [
        "<a href=\"https://colab.research.google.com/github/Pillalamarrivyshnavi/2216155_AIML_Bootcamp_2023/blob/main/Aiml_bootcamp_Day_8.ipynb\" target=\"_parent\"><img src=\"https://colab.research.google.com/assets/colab-badge.svg\" alt=\"Open In Colab\"/></a>"
      ]
    },
    {
      "cell_type": "code",
      "execution_count": 1,
      "metadata": {
        "id": "QL2tNTN6w3eP"
      },
      "outputs": [],
      "source": [
        "#file object=open(\"file name\",\"mode\")\n",
        "#x=create\n",
        "#r=read\n",
        "#w=write\n",
        "#r+=read and write\n",
        "#w+=write and read\n",
        "#rb=\n",
        "#wb=\n",
        "#rb+\n",
        "#wb+\n",
        "#a=appends\n",
        "#a+=append and read\n",
        "#ab=\n",
        "#ab+"
      ]
    },
    {
      "cell_type": "code",
      "source": [
        "f=open(\"sample.txt\",\"x\")"
      ],
      "metadata": {
        "id": "gB8CCCjZx3b3"
      },
      "execution_count": 2,
      "outputs": []
    },
    {
      "cell_type": "code",
      "source": [
        "f=open(\"sample.txt\",\"w\")\n",
        "f.write(\"Welcome to Python Programming\")\n",
        "f.close()"
      ],
      "metadata": {
        "id": "88Ocfd_hx7QV"
      },
      "execution_count": 3,
      "outputs": []
    },
    {
      "cell_type": "code",
      "source": [
        "f=open(\"sam.txt\",\"x\")"
      ],
      "metadata": {
        "id": "k1McH6LEyRJX"
      },
      "execution_count": 4,
      "outputs": []
    },
    {
      "cell_type": "code",
      "source": [
        "import os\n",
        "os.remove(\"sam.txt\")"
      ],
      "metadata": {
        "id": "yMxpvCiyyy6b"
      },
      "execution_count": 5,
      "outputs": []
    },
    {
      "cell_type": "code",
      "source": [
        "f=open(\"sample.txt\",\"r\")\n",
        "print(f.read(3))#moves the cursor to the particular pos\n",
        "print(f.tell())\n",
        "print(f.seek(2))\n",
        "print(f.seek(0))\n",
        "print(f.readline())\n",
        "print(f.readlines(3))\n",
        "f.close()"
      ],
      "metadata": {
        "colab": {
          "base_uri": "https://localhost:8080/"
        },
        "id": "26aaV69hy6_J",
        "outputId": "33677ae4-a7cb-4dd9-d5c2-2c9631d7b85e"
      },
      "execution_count": 8,
      "outputs": [
        {
          "output_type": "stream",
          "name": "stdout",
          "text": [
            "Wel\n",
            "3\n",
            "2\n",
            "0\n",
            "Welcome to Python Programming\n",
            "[]\n"
          ]
        }
      ]
    },
    {
      "cell_type": "code",
      "source": [
        "f1=open(\"f1.txt\",\"w\")\n",
        "f1.write(\"Copy paste\")\n",
        "f1.close()"
      ],
      "metadata": {
        "id": "wEu0K6xB0MiC"
      },
      "execution_count": 10,
      "outputs": []
    },
    {
      "cell_type": "code",
      "source": [
        "f1=open(\"f1.txt\",\"r\")\n",
        "temp=f1.read()\n",
        "f1.close()\n",
        "\n",
        "f2=open(\"f2.txt\",\"w\")\n",
        "f2.write(temp)\n",
        "f2.close()"
      ],
      "metadata": {
        "id": "U56Atfzh0Wjj"
      },
      "execution_count": 13,
      "outputs": []
    },
    {
      "cell_type": "code",
      "source": [
        "import os\n",
        "#append\n",
        "f2=open(\"f2.txt\",\"a\")\n",
        "f2.write(\"done from f1 file\")\n",
        "f2=open(\"f2.txt\",\"r\")\n",
        "tem=f2.read()\n",
        "f2.close()\n",
        "\n",
        "#reverse and check if it is a palindrome or not\n",
        "p_f=open(\"p_f.txt\",\"w\")\n",
        "p_f.write(\"hello\")\n",
        "p_f=open(\"p_f.txt\",\"r\")\n",
        "t1=p_f.read()\n",
        "t2=(t1[::-1])\n",
        "print(t2)\n",
        "if(t1==t2):\n",
        "  print(\"palindrome\")\n",
        "else:\n",
        "  print(\"not\")\n",
        "p_f.close()\n",
        "\n",
        "#check if it is a armstrong or not\n",
        "a_f=open(\"a_f.txt\",\"w\")\n",
        "a_f.write(\"153\")\n",
        "a_f=open(\"a_f.txt\",\"r\")\n",
        "t1=a_f.read()\n",
        "s1=0\n",
        "num=153\n",
        "t1=num\n",
        "while t1>0:\n",
        "     n=t1%10\n",
        "     s1+=n**3  \n",
        "     t1=t1//10\n",
        "print(s1)\n",
        "if(num==s1):\n",
        "   print(\"armstrong\")\n",
        "else:\n",
        "  print(\"not\")\n",
        "\n",
        " "
      ],
      "metadata": {
        "colab": {
          "base_uri": "https://localhost:8080/"
        },
        "id": "OUTOa-55zE2L",
        "outputId": "80b1a1bb-1aef-416e-819a-faf0a95f9985"
      },
      "execution_count": 52,
      "outputs": [
        {
          "output_type": "stream",
          "name": "stdout",
          "text": [
            "olleh\n",
            "not\n",
            "153\n",
            "armstrong\n"
          ]
        }
      ]
    },
    {
      "cell_type": "code",
      "source": [
        " #pickling\n",
        " import pickle\n",
        " my_list=['a','b','c','d','e']\n",
        " f3=open(\"datafile.txt\",\"wb\")\n",
        " pickle.dump(my_list,f3)\n",
        " f3.close()\n",
        "\n",
        " #unpickling\n",
        " import pickle\n",
        " pickle_off=open(\"datafile.txt\",\"rb\")\n",
        " e=pickle.load(pickle_off)\n",
        " print(e)\n"
      ],
      "metadata": {
        "colab": {
          "base_uri": "https://localhost:8080/"
        },
        "id": "DPt6S1Qq5JKp",
        "outputId": "b31f5818-abf6-4c20-e335-eb125e896695"
      },
      "execution_count": 47,
      "outputs": [
        {
          "output_type": "stream",
          "name": "stdout",
          "text": [
            "['a', 'b', 'c', 'd', 'e']\n"
          ]
        }
      ]
    },
    {
      "cell_type": "code",
      "source": [],
      "metadata": {
        "id": "EjaFmXWH7LUs"
      },
      "execution_count": 48,
      "outputs": []
    }
  ]
}